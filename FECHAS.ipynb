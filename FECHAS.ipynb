{
 "cells": [
  {
   "cell_type": "code",
   "execution_count": null,
   "metadata": {},
   "outputs": [],
   "source": [
    "import pandas as pd"
   ]
  },
  {
   "cell_type": "code",
   "execution_count": 5,
   "metadata": {},
   "outputs": [],
   "source": [
    "#Cargar el dataset del cual quieres scar las fechas\n",
    "train_data = pd.read_csv(r'C:\\Users\\Pc-Angelica\\Downloads\\proyecto1\\proyecto1\\dataset\\train.csv')"
   ]
  },
  {
   "cell_type": "code",
   "execution_count": 6,
   "metadata": {},
   "outputs": [],
   "source": [
    "train_data['date'] = pd.to_datetime(train_data['date'])"
   ]
  },
  {
   "cell_type": "code",
   "execution_count": 7,
   "metadata": {},
   "outputs": [
    {
     "name": "stdout",
     "output_type": "stream",
     "text": [
      "Rango de fechas en los datos de consumo electrico\n",
      "Fecha minima: 2018-01-01 00:00:00\n",
      "Fecha maxima: 2021-12-31 23:00:00\n"
     ]
    }
   ],
   "source": [
    "#Mostrar el rango de fechas del dataset\n",
    "print('Rango de fechas en los datos de consumo electrico')\n",
    "print(f'Fecha minima: {train_data['date'].min()}')\n",
    "print(f'Fecha maxima: {train_data['date'].max()}')"
   ]
  }
 ],
 "metadata": {
  "kernelspec": {
   "display_name": "Python 3",
   "language": "python",
   "name": "python3"
  },
  "language_info": {
   "codemirror_mode": {
    "name": "ipython",
    "version": 3
   },
   "file_extension": ".py",
   "mimetype": "text/x-python",
   "name": "python",
   "nbconvert_exporter": "python",
   "pygments_lexer": "ipython3",
   "version": "3.12.3"
  }
 },
 "nbformat": 4,
 "nbformat_minor": 2
}

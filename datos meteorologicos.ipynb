{
 "cells": [
  {
   "cell_type": "code",
   "execution_count": 8,
   "metadata": {},
   "outputs": [],
   "source": [
    "#Obtencion de datos metereologicos\n",
    "try:\n",
    "    from meteostat import Hourly, Stations\n",
    "except ImportError:\n",
    "    print('Meteostat no esta instalado. Instalar con el siguiente comando:')\n",
    "    print('pip install meteostat')\n",
    "    exit"
   ]
  },
  {
   "cell_type": "code",
   "execution_count": 9,
   "metadata": {},
   "outputs": [
    {
     "name": "stdout",
     "output_type": "stream",
     "text": [
      "Rango de fechas en los datos de consumo electrico\n",
      "Fecha minima: 2018-01-01 00:00:00\n",
      "Fecha maxima: 2021-12-31 23:00:00\n"
     ]
    }
   ],
   "source": [
    "#Configurar el periodo que quieres buscar, que se puede encontrar con el siguiente codigo\n",
    "#Cargar el dataset del cual quieres scar las fechas\n",
    "train_data = pd.read_csv(r'C:\\Users\\Pc-Angelica\\Downloads\\proyecto1\\proyecto1\\dataset\\train.csv')\n",
    "train_data['date'] = pd.to_datetime(train_data['date'])\n",
    "#Mostrar el rango de fechas del dataset\n",
    "print('Rango de fechas en los datos de consumo electrico')\n",
    "print(f'Fecha minima: {train_data['date'].min()}')\n",
    "print(f'Fecha maxima: {train_data['date'].max()}')"
   ]
  },
  {
   "cell_type": "code",
   "execution_count": 10,
   "metadata": {},
   "outputs": [],
   "source": [
    "#Obtencion de datos metereologicos\n",
    "try:\n",
    "    from meteostat import Hourly, Stations\n",
    "except ImportError:\n",
    "    print('Meteostat no esta instalado. Instalar con el siguiente comando:')\n",
    "    print('pip install meteostat')\n",
    "    exit"
   ]
  },
  {
   "cell_type": "code",
   "execution_count": 11,
   "metadata": {},
   "outputs": [
    {
     "name": "stdout",
     "output_type": "stream",
     "text": [
      "Requirement already satisfied: meteostat in c:\\users\\pc-angelica\\appdata\\local\\programs\\python\\python312\\lib\\site-packages (1.6.8)\n",
      "Requirement already satisfied: pandas>=1.1 in c:\\users\\pc-angelica\\appdata\\local\\programs\\python\\python312\\lib\\site-packages (from meteostat) (2.2.3)\n",
      "Requirement already satisfied: pytz in c:\\users\\pc-angelica\\appdata\\local\\programs\\python\\python312\\lib\\site-packages (from meteostat) (2024.2)\n",
      "Requirement already satisfied: numpy in c:\\users\\pc-angelica\\appdata\\local\\programs\\python\\python312\\lib\\site-packages (from meteostat) (2.2.0)\n",
      "Requirement already satisfied: python-dateutil>=2.8.2 in c:\\users\\pc-angelica\\appdata\\roaming\\python\\python312\\site-packages (from pandas>=1.1->meteostat) (2.9.0.post0)\n",
      "Requirement already satisfied: tzdata>=2022.7 in c:\\users\\pc-angelica\\appdata\\local\\programs\\python\\python312\\lib\\site-packages (from pandas>=1.1->meteostat) (2024.2)\n",
      "Requirement already satisfied: six>=1.5 in c:\\users\\pc-angelica\\appdata\\roaming\\python\\python312\\site-packages (from python-dateutil>=2.8.2->pandas>=1.1->meteostat) (1.17.0)\n",
      "Note: you may need to restart the kernel to use updated packages.\n"
     ]
    },
    {
     "name": "stderr",
     "output_type": "stream",
     "text": [
      "\n",
      "[notice] A new release of pip is available: 24.0 -> 24.3.1\n",
      "[notice] To update, run: python.exe -m pip install --upgrade pip\n"
     ]
    }
   ],
   "source": [
    "pip install meteostat"
   ]
  },
  {
   "cell_type": "code",
   "execution_count": 12,
   "metadata": {},
   "outputs": [],
   "source": [
    "from meteostat import Hourly, Stations\n",
    "from datetime import datetime\n"
   ]
  },
  {
   "cell_type": "code",
   "execution_count": 13,
   "metadata": {},
   "outputs": [],
   "source": [
    "#Definir el periodo de tiempo, segun lo encontrado anteriormente\n",
    "start = datetime(2018, 1, 1)\n",
    "end = datetime(2021, 12, 31)"
   ]
  },
  {
   "cell_type": "code",
   "execution_count": 16,
   "metadata": {},
   "outputs": [
    {
     "name": "stdout",
     "output_type": "stream",
     "text": [
      "                     name country region    wmo  icao  latitude  longitude  \\\n",
      "id                                                                           \n",
      "85577  Santiago Q. Normal      CL     RM  85577  <NA>  -33.4333   -70.6833   \n",
      "\n",
      "       elevation          timezone hourly_start hourly_end daily_start  \\\n",
      "id                                                                       \n",
      "85577      520.0  America/Santiago          NaT        NaT  1964-05-22   \n",
      "\n",
      "       daily_end monthly_start monthly_end     distance  \n",
      "id                                                       \n",
      "85577 2024-09-13    1949-01-01  2021-01-01  2167.123332  \n"
     ]
    }
   ],
   "source": [
    "#Buscar las estaciones metereologicasa cercanas a tu dataset\n",
    "# Utilizando las coordenadas de en este caso Santiago\n",
    "stations = Stations()\n",
    "stations = stations.nearby(-33.4489, -70.6693)\n",
    "station =stations.fetch(1) #Obtener la estacion mas cercana\n",
    "print(station)"
   ]
  },
  {
   "cell_type": "code",
   "execution_count": 17,
   "metadata": {},
   "outputs": [
    {
     "name": "stderr",
     "output_type": "stream",
     "text": [
      "FutureWarning: Support for nested sequences for 'parse_dates' in pd.read_csv is deprecated. Combine the desired columns with pd.to_datetime after parsing instead.\n",
      "FutureWarning: Support for nested sequences for 'parse_dates' in pd.read_csv is deprecated. Combine the desired columns with pd.to_datetime after parsing instead.\n",
      "FutureWarning: Support for nested sequences for 'parse_dates' in pd.read_csv is deprecated. Combine the desired columns with pd.to_datetime after parsing instead.\n",
      "FutureWarning: Support for nested sequences for 'parse_dates' in pd.read_csv is deprecated. Combine the desired columns with pd.to_datetime after parsing instead.\n"
     ]
    }
   ],
   "source": [
    "#Descargar datos de horarios\n",
    "data = Hourly(station.index[0], start, end) # start y end ya establecidos\n",
    "data = data.fetch()"
   ]
  },
  {
   "cell_type": "code",
   "execution_count": 18,
   "metadata": {},
   "outputs": [
    {
     "name": "stdout",
     "output_type": "stream",
     "text": [
      "                     temp  dwpt  rhum  prcp  snow   wdir  wspd  wpgt    pres  \\\n",
      "time                                                                           \n",
      "2018-01-28 18:00:00  33.6   5.2  17.0   NaN   NaN  218.0   7.4   NaN  1004.6   \n",
      "2018-01-28 21:00:00  33.6   5.2  17.0   NaN   NaN  206.0  11.1   NaN  1002.2   \n",
      "2018-01-29 00:00:00  26.6   6.1  27.0   NaN   NaN  185.0   7.4   NaN  1004.9   \n",
      "2018-01-29 03:00:00  21.4   4.9  34.0   NaN   NaN  176.0   3.7   NaN  1007.3   \n",
      "2018-01-29 06:00:00  17.3   8.2  55.0   NaN   NaN  213.0   0.0   NaN  1006.7   \n",
      "\n",
      "                     tsun  coco  \n",
      "time                             \n",
      "2018-01-28 18:00:00   NaN   1.0  \n",
      "2018-01-28 21:00:00   NaN   1.0  \n",
      "2018-01-29 00:00:00   NaN   1.0  \n",
      "2018-01-29 03:00:00   NaN   1.0  \n",
      "2018-01-29 06:00:00   NaN   1.0  \n"
     ]
    }
   ],
   "source": [
    "#Mostar los datos climaticos obtenidos\n",
    "print(data.head())"
   ]
  },
  {
   "cell_type": "code",
   "execution_count": 20,
   "metadata": {},
   "outputs": [],
   "source": [
    "#Guarda los datos meteorologicos obtenidos en un CSV\n",
    "data.to_csv('datos_meteorologicos', index=True) #index=True, es para incluir la fecha y hora como indice\n",
    "# Con los datos guardados puedes hacer un analisi exploratorio en ellos"
   ]
  },
  {
   "cell_type": "code",
   "execution_count": 21,
   "metadata": {},
   "outputs": [
    {
     "name": "stdout",
     "output_type": "stream",
     "text": [
      "directorio: c:\\Users\\Pc-Angelica\\Desktop\\DATAAAAA\n"
     ]
    }
   ],
   "source": [
    "import os\n",
    "print('directorio:', os.getcwd())"
   ]
  }
 ],
 "metadata": {
  "kernelspec": {
   "display_name": "base",
   "language": "python",
   "name": "python3"
  },
  "language_info": {
   "codemirror_mode": {
    "name": "ipython",
    "version": 3
   },
   "file_extension": ".py",
   "mimetype": "text/x-python",
   "name": "python",
   "nbconvert_exporter": "python",
   "pygments_lexer": "ipython3",
   "version": "3.11.7"
  }
 },
 "nbformat": 4,
 "nbformat_minor": 2
}
